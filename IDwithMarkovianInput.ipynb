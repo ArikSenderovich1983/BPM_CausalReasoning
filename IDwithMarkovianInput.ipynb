{
  "nbformat": 4,
  "nbformat_minor": 0,
  "metadata": {
    "colab": {
      "provenance": [],
      "authorship_tag": "ABX9TyOtzeWrgy3z2KfIghFzlmo6",
      "include_colab_link": true
    },
    "kernelspec": {
      "name": "python3",
      "display_name": "Python 3"
    },
    "language_info": {
      "name": "python"
    }
  },
  "cells": [
    {
      "cell_type": "markdown",
      "metadata": {
        "id": "view-in-github",
        "colab_type": "text"
      },
      "source": [
        "<a href=\"https://colab.research.google.com/github/aliash98/BPM_CausalReasoning/blob/main/IDwithMarkovianInput.ipynb\" target=\"_parent\"><img src=\"https://colab.research.google.com/assets/colab-badge.svg\" alt=\"Open In Colab\"/></a>"
      ]
    },
    {
      "cell_type": "code",
      "execution_count": null,
      "metadata": {
        "id": "4mJJYX-i10L_"
      },
      "outputs": [],
      "source": [
        "!pip install ylearn"
      ]
    },
    {
      "cell_type": "code",
      "source": [
        "!pip install networkx==2.8"
      ],
      "metadata": {
        "id": "MCiyOvIE2Mm9"
      },
      "execution_count": null,
      "outputs": []
    },
    {
      "cell_type": "code",
      "source": [
        "!pip list"
      ],
      "metadata": {
        "id": "a-_Jt0aXE3eH"
      },
      "execution_count": null,
      "outputs": []
    },
    {
      "cell_type": "code",
      "source": [
        "import networkx as nx\n",
        "import numpy as np\n",
        "import pandas as pd\n",
        "from ylearn.causal_model.graph import CausalGraph\n",
        "from ylearn.causal_model import CausalModel\n",
        "# from sklearn.model_selection import train_test_split\n",
        "# from sklearn.linear_model import LogisticRegression\n",
        "# from sklearn.linear_model import LinearRegression"
      ],
      "metadata": {
        "id": "jwOcZJq02Psb"
      },
      "execution_count": 1,
      "outputs": []
    },
    {
      "cell_type": "code",
      "source": [
        "def markov_to_semimarkov(G):\n",
        "\n",
        "  G_sm = nx.DiGraph()\n",
        "\n",
        "  # Rule 1 ------- Adding all observed nodes to the new graph\n",
        "  for node in G.nodes(data=True):\n",
        "    if node[1]['color'] == 'blue':\n",
        "      G_sm.add_node(node[0])\n",
        "  \n",
        "  # Rule 2 ------- Importing edges between two blue nodes\n",
        "  for edge in G.edges(data=True):\n",
        "    from_node = edge[0]\n",
        "    to_node = edge[1]\n",
        "    from_node_color = G.nodes[from_node]['color']\n",
        "    to_node_color = G.nodes[to_node]['color']\n",
        "    if from_node_color =='blue' and to_node_color =='blue':\n",
        "      G_sm.add_edge(edge[0], edge[1])\n",
        "\n",
        "  # Rule 3 ------- Adding edges for directed paths through grey nodes between two blue nodes\n",
        "  grey_nodes = [n for n,v in G.nodes(data=True) if v['color'] == 'grey']  \n",
        "  blue_nodes = [n for n,v in G.nodes(data=True) if v['color'] == 'blue']\n",
        "\n",
        "  for source in blue_nodes:\n",
        "    for sink in blue_nodes:\n",
        "      if source == sink or G.has_edge(source, sink):\n",
        "        continue\n",
        "      for path in nx.all_simple_paths(G, source=source, target=sink):\n",
        "        counter = 0\n",
        "        for between_node in path:\n",
        "          if between_node in blue_nodes:\n",
        "            counter += 1\n",
        "        if counter == 2:\n",
        "          G_sm.add_edge(source, sink)\n",
        "          break\n",
        "    \n",
        "  # Rule 4 ------- Extracting the hidden confounders\n",
        "  confounding_list = []\n",
        "\n",
        "  for source in grey_nodes:\n",
        "    potential_confounding = []\n",
        "    for sink in blue_nodes:\n",
        "      for path in nx.all_simple_paths(G, source=source, target=sink):\n",
        "        red_flag = 0\n",
        "        for between_node in path:\n",
        "          if between_node in blue_nodes and between_node != sink:\n",
        "            red_flag = 1\n",
        "            break\n",
        "        if red_flag == 0:\n",
        "          potential_confounding.append(sink)\n",
        "          break\n",
        "    if len(potential_confounding) > 1:\n",
        "      confounding_list.append(potential_confounding)\n",
        "    \n",
        "  # we construct a graph for confounding arcs\n",
        "  G_confounded = nx.Graph()\n",
        "  for item in confounding_list:\n",
        "    for i in range(len(item)):\n",
        "        for j in range(i + 1 , len(item)):\n",
        "          G_confounded.add_edge(item[i], item[j])\n",
        "  # nx.draw(G_confounded, with_labels=True, font_weight='bold', node_size=500)\n",
        "\n",
        "  return G_sm, list(G_confounded.edges())"
      ],
      "metadata": {
        "id": "yib1AxJ72pwG"
      },
      "execution_count": 2,
      "outputs": []
    },
    {
      "cell_type": "code",
      "source": [
        "# Creating a graph\n",
        "\n",
        "G = nx.DiGraph()\n",
        "G.add_nodes_from([\n",
        "    ('V5', {\"color\": \"grey\"}),\n",
        "    ('V4', {\"color\": \"grey\"}),\n",
        "    ('V3', {\"color\": \"grey\"}),\n",
        "    ('V2', {\"color\": \"blue\"}),\n",
        "    ('V1', {\"color\": \"blue\"}),\n",
        "    ('D', {\"color\": \"blue\"}),\n",
        "])\n",
        "G.add_edge('V5', 'D')\n",
        "G.add_edge('V3', 'V4')\n",
        "G.add_edge('V4', 'V2')\n",
        "G.add_edge('V3', 'V1')\n",
        "G.add_edge('V2', 'V1')\n",
        "G.add_edge('V2', 'D')\n",
        "G.add_edge('V1', 'D')\n",
        "\n",
        "grey_nodes = [n for n,v in G.nodes(data=True) if v['color'] == 'grey']\n",
        "\n",
        "nx.draw(G, with_labels=True, font_weight='bold', node_size=1000, node_color = [x[1] for x in G.nodes('color')])"
      ],
      "metadata": {
        "colab": {
          "base_uri": "https://localhost:8080/",
          "height": 319
        },
        "id": "Fp19Gzyr2xVv",
        "outputId": "4986260b-f944-444b-f617-781535233469"
      },
      "execution_count": 33,
      "outputs": [
        {
          "output_type": "display_data",
          "data": {
            "text/plain": [
              "<Figure size 432x288 with 1 Axes>"
            ],
            "image/png": "[encoded data removed]"
          },
          "metadata": {}
        }
      ]
    },
    {
      "cell_type": "code",
      "source": [
        "final_graph, confounded_vars = markov_to_semimarkov(G)\n",
        "nx.draw(final_graph, with_labels=True, font_weight='bold', node_size=1000, node_color = 'skyblue')\n",
        "print(confounded_vars)\n",
        "print(grey_nodes)"
      ],
      "metadata": {
        "colab": {
          "base_uri": "https://localhost:8080/",
          "height": 355
        },
        "id": "vf32Mk5g6-B7",
        "outputId": "72d55eb0-f62f-403c-cd22-fefd63f27717"
      },
      "execution_count": 27,
      "outputs": [
        {
          "output_type": "stream",
          "name": "stdout",
          "text": [
            "[('V2', 'V1')]\n",
            "['V3']\n"
          ]
        },
        {
          "output_type": "display_data",
          "data": {
            "text/plain": [
              "<Figure size 432x288 with 1 Axes>"
            ],
            "image/png": "[encoded data removed]"
          },
          "metadata": {}
        }
      ]
    },
    {
      "cell_type": "code",
      "source": [
        "# function to compute the power set \n",
        "\n",
        "from itertools import chain, combinations\n",
        "\n",
        "def powerset(iterable):\n",
        "    \"powerset([1,2,3]) --> () (1,) (2,) (3,) (1,2) (1,3) (2,3) (1,2,3)\"\n",
        "    s = list(iterable)\n",
        "    return list(chain.from_iterable(combinations(s, r) for r in range(1, len(s)+1)))\n",
        "\n",
        "output = powerset(['V1', 'V2'])\n",
        "print(list(output))"
      ],
      "metadata": {
        "colab": {
          "base_uri": "https://localhost:8080/"
        },
        "id": "zst8uxcw-vxL",
        "outputId": "e3c94e3f-5db6-4114-a023-cd57d5b38369"
      },
      "execution_count": 4,
      "outputs": [
        {
          "output_type": "stream",
          "name": "stdout",
          "text": [
            "[('V1',), ('V2',), ('V1', 'V2')]\n"
          ]
        }
      ]
    },
    {
      "cell_type": "code",
      "source": [
        "# function\n",
        "\n",
        "# INPUT: Markovian graph (including observed(blue)/unobserved(grey)), Targer, Intervention (node names)\n",
        "# OUTPUT: True/False (for the identifiability), [] a set of all possible adjustment sets\n",
        "\n",
        "def ID_with_markov(G, T, I):\n",
        "\n",
        "  grey_nodes = [n for n,v in G.nodes(data=True) if v['color'] == 'grey']\n",
        "  if T in grey_nodes:\n",
        "    print('The target variable (T) cannot be unobserved.')\n",
        "    return False\n",
        "  if I in grey_nodes:\n",
        "    print('The intervention variable (I) cannot be unobserved.')\n",
        "    return False\n",
        "\n",
        "  final_graph, confounded_vars = markov_to_semimarkov(G)\n",
        "  causation = nx.to_dict_of_lists(final_graph.reverse(copy=True))\n",
        "  arcs = confounded_vars\n",
        "  cg = CausalGraph(causation, latent_confounding_arcs=arcs)\n",
        "  cm = CausalModel(cg)\n",
        "\n",
        "  try:\n",
        "    p = cm.id({T}, {I})\n",
        "  except:\n",
        "    print('Based on the current setting the query is not identifiable.')\n",
        "    power_set = powerset(grey_nodes)\n",
        "    adj_sets = []\n",
        "\n",
        "    for grey_set in power_set:\n",
        "      H = G.copy()\n",
        "\n",
        "      grey_list = list(grey_set)\n",
        "      for grey_node in grey_list:\n",
        "        nx.set_node_attributes(H, {grey_node: \"blue\"}, name=\"color\")\n",
        "\n",
        "      final_graph, confounded_vars = markov_to_semimarkov(H)\n",
        "      causation = nx.to_dict_of_lists(final_graph.reverse(copy=True))\n",
        "      arcs = confounded_vars\n",
        "      cg = CausalGraph(causation, latent_confounding_arcs=arcs)\n",
        "      cm = CausalModel(cg)\n",
        "\n",
        "      try:\n",
        "        p = cm.id({T}, {I})\n",
        "      except:\n",
        "        print(\"The query is still not identifiable with \" + str(grey_list) + \" being observed.\")\n",
        "      else:\n",
        "        print(\"The query becomes identifiable if \" + str(grey_list) + \" are observed.\")\n",
        "        adj_sets.append(grey_list)\n",
        "        # p.show_latex_expression()\n",
        "\n",
        "    return False, adj_sets\n",
        "  else:\n",
        "    print(\"Based on the current setting the query is already identifiable.\")\n",
        "    # p.show_latex_expression()\n",
        "    return True, []\n",
        "\n",
        "\n"
      ],
      "metadata": {
        "id": "wMpOhLYA8b4H"
      },
      "execution_count": 34,
      "outputs": []
    },
    {
      "cell_type": "code",
      "source": [
        "print(ID_with_markov(G, 'D', 'V2'))"
      ],
      "metadata": {
        "colab": {
          "base_uri": "https://localhost:8080/"
        },
        "id": "OFSsD3WB5HjW",
        "outputId": "0a26aaa3-08d7-446a-ae9f-fcff40335c06"
      },
      "execution_count": 35,
      "outputs": [
        {
          "output_type": "stream",
          "name": "stdout",
          "text": [
            "Based on the current setting the query is not identifiable.\n",
            "The query is still not identifiable with ['V5'] being observed.\n",
            "The query becomes identifiable if ['V4'] are observed.\n",
            "The query becomes identifiable if ['V3'] are observed.\n",
            "The query becomes identifiable if ['V5', 'V4'] are observed.\n",
            "The query becomes identifiable if ['V5', 'V3'] are observed.\n",
            "The query becomes identifiable if ['V4', 'V3'] are observed.\n",
            "The query becomes identifiable if ['V5', 'V4', 'V3'] are observed.\n",
            "(False, [['V4'], ['V3'], ['V5', 'V4'], ['V5', 'V3'], ['V4', 'V3'], ['V5', 'V4', 'V3']])\n"
          ]
        }
      ]
    }
  ]
}