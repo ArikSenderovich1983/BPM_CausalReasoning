{
  "nbformat": 4,
  "nbformat_minor": 0,
  "metadata": {
    "colab": {
      "provenance": [],
      "authorship_tag": "ABX9TyM/f6LV7r5xEonKAgMocj46",
      "include_colab_link": true
    },
    "kernelspec": {
      "name": "python3",
      "display_name": "Python 3"
    },
    "language_info": {
      "name": "python"
    }
  },
  "cells": [
    {
      "cell_type": "markdown",
      "metadata": {
        "id": "view-in-github",
        "colab_type": "text"
      },
      "source": [
        "<a href=\"https://colab.research.google.com/github/aliash98/BPM_CausalReasoning/blob/main/IDwithMarkovianInput.ipynb\" target=\"_parent\"><img src=\"https://colab.research.google.com/assets/colab-badge.svg\" alt=\"Open In Colab\"/></a>"
      ]
    },
    {
      "cell_type": "code",
      "execution_count": null,
      "metadata": {
        "id": "4mJJYX-i10L_"
      },
      "outputs": [],
      "source": [
        "!pip install ylearn"
      ]
    },
    {
      "cell_type": "code",
      "source": [
        "!pip install networkx==2.8"
      ],
      "metadata": {
        "id": "MCiyOvIE2Mm9"
      },
      "execution_count": null,
      "outputs": []
    },
    {
      "cell_type": "code",
      "source": [
        "import networkx as nx\n",
        "import numpy as np\n",
        "import pandas as pd\n",
        "from ylearn.causal_model.graph import CausalGraph\n",
        "from ylearn.causal_model import CausalModel\n",
        "# from sklearn.model_selection import train_test_split\n",
        "# from sklearn.linear_model import LogisticRegression\n",
        "# from sklearn.linear_model import LinearRegression"
      ],
      "metadata": {
        "id": "jwOcZJq02Psb"
      },
      "execution_count": 3,
      "outputs": []
    },
    {
      "cell_type": "code",
      "source": [
        "def markov_to_semimarkov(G):\n",
        "\n",
        "  G_sm = nx.DiGraph()\n",
        "\n",
        "  # Rule 1 ------- Adding all observed nodes to the new graph\n",
        "  for node in G.nodes(data=True):\n",
        "    if node[1]['color'] == 'blue':\n",
        "      G_sm.add_node(node[0])\n",
        "  \n",
        "  # Rule 2 ------- Importing edges between two blue nodes\n",
        "  for edge in G.edges(data=True):\n",
        "    from_node = edge[0]\n",
        "    to_node = edge[1]\n",
        "    from_node_color = G.nodes[from_node]['color']\n",
        "    to_node_color = G.nodes[to_node]['color']\n",
        "    if from_node_color =='blue' and to_node_color =='blue':\n",
        "      G_sm.add_edge(edge[0], edge[1])\n",
        "\n",
        "  # Rule 3 ------- Adding edges for directed paths through grey nodes between two blue nodes\n",
        "  grey_nodes = [n for n,v in G.nodes(data=True) if v['color'] == 'grey']  \n",
        "  blue_nodes = [n for n,v in G.nodes(data=True) if v['color'] == 'blue']\n",
        "\n",
        "  for source in blue_nodes:\n",
        "    for sink in blue_nodes:\n",
        "      if source == sink or G.has_edge(source, sink):\n",
        "        continue\n",
        "      for path in nx.all_simple_paths(G, source=source, target=sink):\n",
        "        counter = 0\n",
        "        for between_node in path:\n",
        "          if between_node in blue_nodes:\n",
        "            counter += 1\n",
        "        if counter == 2:\n",
        "          G_sm.add_edge(source, sink)\n",
        "          break\n",
        "    \n",
        "  # Rule 4 ------- Extracting the hidden confounders\n",
        "  confounding_list = []\n",
        "\n",
        "  for source in grey_nodes:\n",
        "    potential_confounding = []\n",
        "    for sink in blue_nodes:\n",
        "      for path in nx.all_simple_paths(G, source=source, target=sink):\n",
        "        red_flag = 0\n",
        "        for between_node in path:\n",
        "          if between_node in blue_nodes and between_node != sink:\n",
        "            red_flag = 1\n",
        "            break\n",
        "        if red_flag == 0:\n",
        "          potential_confounding.append(sink)\n",
        "          break\n",
        "    if len(potential_confounding) > 1:\n",
        "      confounding_list.append(potential_confounding)\n",
        "    \n",
        "  # we construct a graph for confounding arcs\n",
        "  G_confounded = nx.Graph()\n",
        "  for item in confounding_list:\n",
        "    for i in range(len(item)):\n",
        "        for j in range(i + 1 , len(item)):\n",
        "          G_confounded.add_edge(item[i], item[j])\n",
        "  # nx.draw(G_confounded, with_labels=True, font_weight='bold', node_size=500)\n",
        "\n",
        "  return G_sm, list(G_confounded.edges())"
      ],
      "metadata": {
        "id": "yib1AxJ72pwG"
      },
      "execution_count": 4,
      "outputs": []
    },
    {
      "cell_type": "code",
      "source": [
        "# Creating a graph\n",
        "\n",
        "G = nx.DiGraph()\n",
        "G.add_nodes_from([\n",
        "    ('V3', {\"color\": \"grey\"}),\n",
        "    ('V2', {\"color\": \"blue\"}),\n",
        "    ('V1', {\"color\": \"blue\"}),\n",
        "    ('D', {\"color\": \"blue\"}),\n",
        "])\n",
        "G.add_edge('V3', 'V2')\n",
        "G.add_edge('V3', 'V1')\n",
        "G.add_edge('V2', 'V1')\n",
        "G.add_edge('V2', 'D')\n",
        "G.add_edge('V1', 'D')\n",
        "\n",
        "grey_nodes = [n for n,v in G.nodes(data=True) if v['color'] == 'grey']\n",
        "\n",
        "final_graph, confounded_vars = markov_to_semimarkov(G)\n",
        "nx.draw(final_graph, with_labels=True, font_weight='bold', node_size=500)\n",
        "print(confounded_vars)\n",
        "print(grey_nodes)"
      ],
      "metadata": {
        "colab": {
          "base_uri": "https://localhost:8080/",
          "height": 355
        },
        "id": "Fp19Gzyr2xVv",
        "outputId": "f4c769fd-001b-40bb-9a34-faf3cf94379c"
      },
      "execution_count": 35,
      "outputs": [
        {
          "output_type": "stream",
          "name": "stdout",
          "text": [
            "[('V2', 'V1')]\n",
            "['V3']\n"
          ]
        },
        {
          "output_type": "display_data",
          "data": {
            "text/plain": [
              "<Figure size 432x288 with 1 Axes>"
            ],
            "image/png": "[encoded data removed]"
          },
          "metadata": {}
        }
      ]
    },
    {
      "cell_type": "code",
      "source": [
        "# Feeding it to ID algrotihm\n",
        "\n",
        "causation = nx.to_dict_of_lists(final_graph.reverse(copy=True))\n",
        "\n",
        "# causation = {\n",
        "#         'V2': [],\n",
        "#         'V1': ['V2'],\n",
        "#         'D': ['V1', 'V2'],\n",
        "# }\n",
        "\n",
        "# Here we define that V1 and V2 are connected with a hidden confounder (V3)\n",
        "arcs = confounded_vars\n",
        "# arcs = [('V1', 'V2')]\n",
        "\n",
        "cg = CausalGraph(causation, latent_confounding_arcs=arcs)\n",
        "# cg = CausalGraph(causation)\n",
        "cm = CausalModel(cg)\n",
        "\n",
        "try:\n",
        "  p = cm.id({'D'}, {'V1'})\n",
        "except:\n",
        "  print(\"The query is not identifiable\")\n",
        "else:\n",
        "  print(\"The query is identifiable\")\n",
        "  p.show_latex_expression()\n",
        "\n",
        "# TODO: show latex doesn't work after print"
      ],
      "metadata": {
        "colab": {
          "base_uri": "https://localhost:8080/"
        },
        "id": "HrPQVy2o3kpl",
        "outputId": "b99c5567-4f6e-4f96-faab-df58e98e2f4f"
      },
      "execution_count": 21,
      "outputs": [
        {
          "output_type": "stream",
          "name": "stdout",
          "text": [
            "The query is identifiable\n"
          ]
        }
      ]
    },
    {
      "cell_type": "code",
      "source": [
        "nx.to_dict_of_lists(final_graph.reverse(copy=True))"
      ],
      "metadata": {
        "colab": {
          "base_uri": "https://localhost:8080/"
        },
        "id": "Y-NO4sLC48Mw",
        "outputId": "a1cd83b8-7def-425c-cb1b-abd322ac4daf"
      },
      "execution_count": 9,
      "outputs": [
        {
          "output_type": "execute_result",
          "data": {
            "text/plain": [
              "{'V2': [], 'V1': ['V2'], 'D': ['V2', 'V1']}"
            ]
          },
          "metadata": {},
          "execution_count": 9
        }
      ]
    },
    {
      "cell_type": "code",
      "source": [
        "from itertools import chain, combinations\n",
        "\n",
        "def powerset(iterable):\n",
        "    \"powerset([1,2,3]) --> () (1,) (2,) (3,) (1,2) (1,3) (2,3) (1,2,3)\"\n",
        "    s = list(iterable)\n",
        "    return list(chain.from_iterable(combinations(s, r) for r in range(1, len(s)+1)))\n",
        "\n",
        "output = powerset(['V1', 'V2'])\n",
        "print(list(output))"
      ],
      "metadata": {
        "colab": {
          "base_uri": "https://localhost:8080/"
        },
        "id": "zst8uxcw-vxL",
        "outputId": "75777831-3cd2-4ed4-8b8a-2988133da08c"
      },
      "execution_count": 29,
      "outputs": [
        {
          "output_type": "stream",
          "name": "stdout",
          "text": [
            "[('V1',), ('V2',), ('V1', 'V2')]\n"
          ]
        }
      ]
    },
    {
      "cell_type": "code",
      "source": [
        "# Let's convert it to a function\n",
        "\n",
        "\n",
        "# INPUT: Markovian graph (including observed(blue)/unobserved(grey)), Targer node, Intervention node\n",
        "def ID_with_markov(G, T, I):\n",
        "  grey_nodes = [n for n,v in G.nodes(data=True) if v['color'] == 'grey']\n",
        "\n",
        "  final_graph, confounded_vars = markov_to_semimarkov(G)\n",
        "\n",
        "  causation = nx.to_dict_of_lists(final_graph.reverse(copy=True))\n",
        "  arcs = confounded_vars\n",
        "\n",
        "  cg = CausalGraph(causation, latent_confounding_arcs=arcs)\n",
        "  cm = CausalModel(cg)\n",
        "  try:\n",
        "    p = cm.id({'D'}, {'V1'})\n",
        "  except:\n",
        "    power_set = powerset(grey_nodes)\n",
        "    print(power_set)\n",
        "    for grey_set in power_set:\n",
        "      grey_list = grey_set\n",
        "      # turn the graph into a new one\n",
        "      for grey_node in grey_set:\n",
        "        nx.set_node_attributes(G, {0: \"red\", 1: \"blue\"}, name=\"color\")\n",
        "\n",
        "        # ...\n",
        "    return False\n",
        "    # print(\"The query is not identifiable\")\n",
        "  else:\n",
        "    return True\n",
        "    # print(\"The query is identifiable\")\n",
        "    # p.show_latex_expression()\n",
        "\n"
      ],
      "metadata": {
        "id": "wMpOhLYA8b4H"
      },
      "execution_count": null,
      "outputs": []
    }
  ]
}