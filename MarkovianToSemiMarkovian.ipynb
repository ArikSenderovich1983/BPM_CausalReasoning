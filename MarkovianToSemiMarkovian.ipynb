{
  "nbformat": 4,
  "nbformat_minor": 0,
  "metadata": {
    "colab": {
      "provenance": [],
      "authorship_tag": "ABX9TyOEQRCiVDdhVUsknaYjiQwo",
      "include_colab_link": true
    },
    "kernelspec": {
      "name": "python3",
      "display_name": "Python 3"
    },
    "language_info": {
      "name": "python"
    }
  },
  "cells": [
    {
      "cell_type": "markdown",
      "metadata": {
        "id": "view-in-github",
        "colab_type": "text"
      },
      "source": [
        "<a href=\"https://colab.research.google.com/github/aliash98/BPM_CausalReasoning/blob/main/MarkovianToSemiMarkovian.ipynb\" target=\"_parent\"><img src=\"https://colab.research.google.com/assets/colab-badge.svg\" alt=\"Open In Colab\"/></a>"
      ]
    },
    {
      "cell_type": "code",
      "execution_count": null,
      "metadata": {
        "id": "C-Ie3KtKIzZZ"
      },
      "outputs": [],
      "source": [
        "!pip install ylearn"
      ]
    },
    {
      "cell_type": "code",
      "source": [
        "!pip install networkx==2.8"
      ],
      "metadata": {
        "colab": {
          "base_uri": "https://localhost:8080/"
        },
        "id": "YMEjr3LiVCH1",
        "outputId": "4c7199f7-ec5d-4744-871e-e002f9a05d89"
      },
      "execution_count": 2,
      "outputs": [
        {
          "output_type": "stream",
          "name": "stdout",
          "text": [
            "Looking in indexes: https://pypi.org/simple, https://us-python.pkg.dev/colab-wheels/public/simple/\n",
            "Collecting networkx==2.8\n",
            "  Downloading networkx-2.8-py3-none-any.whl (2.0 MB)\n",
            "\u001b[2K     \u001b[90m━━━━━━━━━━━━━━━━━━━━━━━━━━━━━━━━━━━━━━━━\u001b[0m \u001b[32m2.0/2.0 MB\u001b[0m \u001b[31m54.8 MB/s\u001b[0m eta \u001b[36m0:00:00\u001b[0m\n",
            "\u001b[?25hInstalling collected packages: networkx\n",
            "  Attempting uninstall: networkx\n",
            "    Found existing installation: networkx 3.0\n",
            "    Uninstalling networkx-3.0:\n",
            "      Successfully uninstalled networkx-3.0\n",
            "Successfully installed networkx-2.8\n"
          ]
        }
      ]
    },
    {
      "cell_type": "code",
      "source": [
        "# A Markovian Graph 'G' as an input\n",
        "\n",
        "# Let's assume V4 to be a grey variable such that V1 -> V4 -> D (we no longer have V1 -> D)\n",
        "\n",
        "import networkx as nx\n",
        "G = nx.DiGraph()\n",
        "G.add_nodes_from([\n",
        "    ('V3', {\"color\": \"grey\"}),\n",
        "    ('V2', {\"color\": \"blue\"}),\n",
        "    ('V1', {\"color\": \"blue\"}),\n",
        "    ('D', {\"color\": \"blue\"}),\n",
        "    ('V4', {\"color\": \"grey\"}),\n",
        "    # ('V5', {\"color\": \"blue\"}),\n",
        "])\n",
        "G.add_edge('V3', 'V2')\n",
        "G.add_edge('V3', 'V1')\n",
        "G.add_edge('V2', 'V1')\n",
        "G.add_edge('V2', 'D')\n",
        "# G.add_edge('V1', 'D')\n",
        "\n",
        "G.add_edge('V1', 'V4')\n",
        "G.add_edge('V4', 'D')\n",
        "# G.add_edge('V3', 'V5')"
      ],
      "metadata": {
        "id": "xiYU4XN6VUqD"
      },
      "execution_count": 36,
      "outputs": []
    },
    {
      "cell_type": "code",
      "source": [
        "G.nodes()"
      ],
      "metadata": {
        "colab": {
          "base_uri": "https://localhost:8080/"
        },
        "id": "ZQx61mnqW1Tr",
        "outputId": "e49cde5a-bb99-4b43-ad37-3e7ee9bac239"
      },
      "execution_count": 37,
      "outputs": [
        {
          "output_type": "execute_result",
          "data": {
            "text/plain": [
              "NodeView(('V3', 'V2', 'V1', 'D', 'V4'))"
            ]
          },
          "metadata": {},
          "execution_count": 37
        }
      ]
    },
    {
      "cell_type": "code",
      "source": [
        "G.edges()"
      ],
      "metadata": {
        "colab": {
          "base_uri": "https://localhost:8080/"
        },
        "id": "XHO0wijvXMbV",
        "outputId": "86d7a0e7-40a7-41df-b457-fbf1e50e1d7b"
      },
      "execution_count": 38,
      "outputs": [
        {
          "output_type": "execute_result",
          "data": {
            "text/plain": [
              "OutEdgeView([('V3', 'V2'), ('V3', 'V1'), ('V2', 'V1'), ('V2', 'D'), ('V1', 'V4'), ('V4', 'D')])"
            ]
          },
          "metadata": {},
          "execution_count": 38
        }
      ]
    },
    {
      "cell_type": "code",
      "source": [
        "# Rule 1\n",
        "# Adding all observed nodes to the new graph\n",
        "\n",
        "G_sm = nx.DiGraph()\n",
        "for node in G.nodes(data=True):\n",
        "  # print(node)\n",
        "  if node[1]['color'] == 'blue':\n",
        "    G_sm.add_node(node[0])\n",
        "\n",
        "G_sm.nodes()"
      ],
      "metadata": {
        "colab": {
          "base_uri": "https://localhost:8080/"
        },
        "id": "o-ESKHosYDCj",
        "outputId": "dad21f6b-01d9-4420-c78f-fdcb04e437a4"
      },
      "execution_count": 39,
      "outputs": [
        {
          "output_type": "execute_result",
          "data": {
            "text/plain": [
              "NodeView(('V2', 'V1', 'D'))"
            ]
          },
          "metadata": {},
          "execution_count": 39
        }
      ]
    },
    {
      "cell_type": "code",
      "source": [
        "# Rule 2\n",
        "# Importing edges between two blue nodes\n",
        "for edge in G.edges(data=True):\n",
        "  from_node = edge[0]\n",
        "  to_node = edge[1]\n",
        "  from_node_color = G.nodes[from_node]['color']\n",
        "  to_node_color = G.nodes[to_node]['color']\n",
        "  if from_node_color =='blue' and to_node_color =='blue':\n",
        "    G_sm.add_edge(edge[0], edge[1])"
      ],
      "metadata": {
        "id": "tbE1i1wqanFg"
      },
      "execution_count": 40,
      "outputs": []
    },
    {
      "cell_type": "code",
      "source": [
        "G_sm.edges()"
      ],
      "metadata": {
        "colab": {
          "base_uri": "https://localhost:8080/"
        },
        "id": "QwJ0zyLwflOw",
        "outputId": "ab8bab2c-e424-43c1-f7ff-ed3823d3cef5"
      },
      "execution_count": 32,
      "outputs": [
        {
          "output_type": "execute_result",
          "data": {
            "text/plain": [
              "OutEdgeView([('V2', 'V1'), ('V2', 'D')])"
            ]
          },
          "metadata": {},
          "execution_count": 32
        }
      ]
    },
    {
      "cell_type": "code",
      "source": [
        "# Rule 3\n",
        "# Adding edges for directed paths through grey nodes between two blue nodes\n",
        "\n",
        "\n",
        "grey_nodes = [n for n,v in G.nodes(data=True) if v['color'] == 'grey']  \n",
        "blue_nodes = [n for n,v in G.nodes(data=True) if v['color'] == 'blue']\n",
        "\n",
        "for source in blue_nodes:\n",
        "  for sink in blue_nodes:\n",
        "    if source == sink or G.has_edge(source, sink):\n",
        "      continue\n",
        "    for path in nx.all_simple_paths(G, source=source, target=sink):\n",
        "      counter = 0\n",
        "      for between_node in path:\n",
        "        if between_node in blue_nodes:\n",
        "          counter += 1\n",
        "      if counter == 2:\n",
        "        G_sm.add_edge(source, sink)\n",
        "        break"
      ],
      "metadata": {
        "id": "Pdgs3SM5f13o"
      },
      "execution_count": 41,
      "outputs": []
    },
    {
      "cell_type": "code",
      "source": [
        "nx.draw(G_sm, with_labels=True, font_weight='bold', node_color='lightblue', node_size=500)"
      ],
      "metadata": {
        "colab": {
          "base_uri": "https://localhost:8080/",
          "height": 319
        },
        "id": "9iVFZfWGQhPP",
        "outputId": "cfc6c01c-b627-4286-e04a-8fa6421e4866"
      },
      "execution_count": 42,
      "outputs": [
        {
          "output_type": "display_data",
          "data": {
            "text/plain": [
              "<Figure size 432x288 with 1 Axes>"
            ],
            "image/png": "[encoded data removed]"
          },
          "metadata": {}
        }
      ]
    },
    {
      "cell_type": "code",
      "source": [
        "# Rule 4 \n",
        "# Extracting the hidden confounders\n",
        "\n",
        "for source in grey_nodes:\n",
        "  potential_confounding = []\n",
        "  for sink in blue_nodes:\n",
        "    for path in nx.all_simple_paths(G, source=source, target=sink):\n",
        "      red_flag = 0\n",
        "      for between_node in path:\n",
        "        if between_node in blue_nodes and between_node != sink:\n",
        "          red_flag = 1\n",
        "          break\n",
        "      if red_flag == 0:\n",
        "        potential_confounding.append(sink)\n",
        "        break\n",
        "  if len(potential_confounding) > 1:\n",
        "    print(potential_confounding)\n",
        "\n",
        "\n",
        "        "
      ],
      "metadata": {
        "colab": {
          "base_uri": "https://localhost:8080/"
        },
        "id": "x00JStKSVB3n",
        "outputId": "7127df08-7deb-49b4-d81c-096744dfb669"
      },
      "execution_count": 43,
      "outputs": [
        {
          "output_type": "stream",
          "name": "stdout",
          "text": [
            "['V2', 'V1']\n"
          ]
        }
      ]
    }
  ]
}