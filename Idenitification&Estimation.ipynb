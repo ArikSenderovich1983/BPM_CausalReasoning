{
  "nbformat": 4,
  "nbformat_minor": 0,
  "metadata": {
    "colab": {
      "provenance": [],
      "toc_visible": true,
      "authorship_tag": "ABX9TyObOBfGtSlmNdlwBHaZ4XDq",
      "include_colab_link": true
    },
    "kernelspec": {
      "name": "python3",
      "display_name": "Python 3"
    },
    "language_info": {
      "name": "python"
    }
  },
  "cells": [
    {
      "cell_type": "markdown",
      "metadata": {
        "id": "view-in-github",
        "colab_type": "text"
      },
      "source": [
        "<a href=\"https://colab.research.google.com/github/aliash98/BPM_CausalReasoning/blob/main/Idenitification%26Estimation.ipynb\" target=\"_parent\"><img src=\"https://colab.research.google.com/assets/colab-badge.svg\" alt=\"Open In Colab\"/></a>"
      ]
    },
    {
      "cell_type": "code",
      "source": [
        "!pip install ylearn"
      ],
      "metadata": {
        "id": "wmnWtIAmlnps"
      },
      "execution_count": null,
      "outputs": []
    },
    {
      "cell_type": "code",
      "source": [
        "!pip install dowhy"
      ],
      "metadata": {
        "id": "j4z0aKLHeg7q"
      },
      "execution_count": null,
      "outputs": []
    },
    {
      "cell_type": "code",
      "source": [
        "!pip install networkx==2.8.5"
      ],
      "metadata": {
        "id": "GBoTjTrRlZil"
      },
      "execution_count": null,
      "outputs": []
    },
    {
      "cell_type": "code",
      "source": [
        "from google.colab import drive\n",
        "drive.mount('/content/drive')"
      ],
      "metadata": {
        "id": "kegv9VMr_HCR"
      },
      "execution_count": null,
      "outputs": []
    },
    {
      "cell_type": "code",
      "source": [
        "!pip list"
      ],
      "metadata": {
        "id": "V3jHO9xSnTBl"
      },
      "execution_count": null,
      "outputs": []
    },
    {
      "cell_type": "code",
      "source": [
        "import numpy as np\n",
        "import pandas as pd\n",
        "from ylearn.causal_model.graph import CausalGraph\n",
        "from ylearn.causal_model import CausalModel\n",
        "from sklearn.model_selection import train_test_split\n",
        "from sklearn.linear_model import LogisticRegression\n",
        "from sklearn.linear_model import LinearRegression"
      ],
      "metadata": {
        "id": "I3wCeqbc745t"
      },
      "execution_count": null,
      "outputs": []
    },
    {
      "cell_type": "code",
      "source": [
        "# Synthesis of Data based on the causal graph Figure 1 (a) --- Assuming normal distribution for both\n",
        "\n",
        "# V3 is the risk taking indicator of a client\n",
        "# V1 is the amount a client has asked for a loan (in thousand dollars)\n",
        "# V2 is the client's credit score\n",
        "# D is the decision made "
      ],
      "metadata": {
        "id": "UbKIJS5x7mka"
      },
      "execution_count": null,
      "outputs": []
    },
    {
      "cell_type": "code",
      "source": [
        "# Synthesis based on the causal graph Figure 1 (c) --- \n",
        "\n",
        "# define the conditional probabilities\n",
        "P_v3 = 0.5\n",
        "P_v2_given_v3 = np.array([0.4, 0.5])\n",
        "P_v1_given_v3_v2 = np.array([[0.6, 0.4], [0.4, 0.3]])\n",
        "P_d_given_v2_v1 = np.array([[0.4, 0.3], [0.7, 0.35]])\n",
        "\n",
        "# generate 1000 samples\n",
        "n_samples = 100000\n",
        "samples = np.zeros((n_samples, 4))\n",
        "for i in range(n_samples):\n",
        "    # sample v3\n",
        "    v3 = np.random.binomial(1, P_v3)\n",
        "    # sample v2 given v3\n",
        "    p_v2_given_v3 = P_v2_given_v3[v3]\n",
        "    v2 = np.random.binomial(1, p_v2_given_v3)\n",
        "    # sample v1 given v3 and v2\n",
        "    p_v1_given_v3_v2 = P_v1_given_v3_v2[v3][v2]\n",
        "    v1 = np.random.binomial(1, p_v1_given_v3_v2)\n",
        "    # sample d given v2 and v1\n",
        "    p_d_given_v2_v1 = P_d_given_v2_v1[v2][v1]\n",
        "    d = np.random.binomial(1, p_d_given_v2_v1)\n",
        "    # store the sample\n",
        "    samples[i] = [v3, v2, v1, d]"
      ],
      "metadata": {
        "id": "ZFWSEnT2BQcf"
      },
      "execution_count": null,
      "outputs": []
    },
    {
      "cell_type": "code",
      "source": [
        "# Converting array to dataframe\n",
        "samples_df = pd.DataFrame({'V3': samples[:, 0], 'V2': samples[:, 1], 'V1':samples[:, 2], 'D':samples[:, 3]})\n",
        "\n",
        "samples_df"
      ],
      "metadata": {
        "id": "X_fZLqE5Cs-F"
      },
      "execution_count": null,
      "outputs": []
    },
    {
      "cell_type": "code",
      "source": [
        "# Testing the accuracy of sampling\n",
        "\n",
        "# k = samples_df[(samples_df['V3'] == 0) & (samples_df['V2'] == 1)]\n",
        "\n",
        "samples_df.groupby(['V2', 'V1'])['D'].mean()\n",
        "# Works perfectly"
      ],
      "metadata": {
        "colab": {
          "base_uri": "https://localhost:8080/"
        },
        "id": "jrepn31xF6bJ",
        "outputId": "3ecc8cc3-7c4d-4b6c-9e97-a95630060dd5"
      },
      "execution_count": null,
      "outputs": [
        {
          "output_type": "execute_result",
          "data": {
            "text/plain": [
              "V2   V1 \n",
              "0.0  0.0    0.402981\n",
              "     1.0    0.296415\n",
              "1.0  0.0    0.699585\n",
              "     1.0    0.350179\n",
              "Name: D, dtype: float64"
            ]
          },
          "metadata": {},
          "execution_count": 31
        }
      ]
    },
    {
      "cell_type": "code",
      "source": [
        "# Constructing the Motivating example graph\n",
        "\n",
        "# Here we define observed variables\n",
        "causation = {\n",
        "        'V2': [],\n",
        "        'V1': ['V2'],\n",
        "        'D': ['V1', 'V2'],\n",
        "}\n",
        "\n",
        "# Here we define that V1 and V2 are connected with a hidden confounder (V3)\n",
        "arcs = [('V1', 'V2')]\n",
        "\n",
        "# cg = CausalGraph(causation, latent_confounding_arcs=arcs)\n",
        "cg = CausalGraph(causation)\n",
        "cm = CausalModel(cg)"
      ],
      "metadata": {
        "id": "pAuWoGSPqSrh"
      },
      "execution_count": null,
      "outputs": []
    },
    {
      "cell_type": "code",
      "source": [
        "# P(D| do(V1)) (which should be NOT be identifiable) ---- Throws an error saying it is not identifiable\n",
        "\n",
        "p = cm.id({'D'}, {'V1'})\n",
        "p.show_latex_expression()"
      ],
      "metadata": {
        "colab": {
          "base_uri": "https://localhost:8080/",
          "height": 39
        },
        "id": "4B4LE-IHs-Lk",
        "outputId": "46b64524-0748-476b-9569-1fce075f509b"
      },
      "execution_count": null,
      "outputs": [
        {
          "output_type": "execute_result",
          "data": {
            "text/plain": [
              "<IPython.core.display.Latex object>"
            ],
            "text/latex": "$\\sum_{V2}\\left[\\left[P(D|V1, V2)\\right]\\right]\\left[P(V2)\\right]$"
          },
          "metadata": {},
          "execution_count": 9
        }
      ]
    },
    {
      "cell_type": "code",
      "source": [
        "# Let's compare it to non-model calculation\n",
        "\n",
        "# do(V1 = 1)\n",
        "\n",
        "# P(V2 = 1) = 0.45\n",
        "# P(V2 = 0) = 0.55\n",
        "# P(D = 1 | V1 = 1, V2 = 1) = 0.35\n",
        "# P(D = 1 | V1 = 1, V2 = 0) = 0.3\n",
        "\n",
        "\n",
        "# Statistical estimand: \n",
        "# P(D = 1 | V1 = 1, V2 = 0) * P(V2 = 0) + P(D = 1 | V1 = 1, V2 = 1) * P(V2 = 1)\n",
        "# = 0.3 * 0.55 + 0.35 * 0.45 = 0.3225"
      ],
      "metadata": {
        "id": "PHkk1viq9ryU"
      },
      "execution_count": null,
      "outputs": []
    },
    {
      "cell_type": "code",
      "source": [
        "# do(V1 = 0)\n",
        "\n",
        "# P(V2 = 1) = 0.45\n",
        "# P(V2 = 0) = 0.55\n",
        "# P(D = 1 | V1 = 0, V2 = 1) = 0.7\n",
        "# P(D = 1 | V1 = 0, V2 = 0) = 0.4\n",
        "\n",
        "\n",
        "# Statistical estimand: \n",
        "# P(D = 1 | V1 = 0, V2 = 0) * P(V2 = 0) + P(D = 1 | V1 = 0, V2 = 1) * P(V2 = 1)\n",
        "# = 0.4 * 0.55 + 0.7 * 0.45 = 0.535"
      ],
      "metadata": {
        "id": "B9N85ElUDC08"
      },
      "execution_count": null,
      "outputs": []
    },
    {
      "cell_type": "code",
      "source": [
        "# A simple logistic regression\n",
        "\n",
        "X = samples_df[['V1', 'V2']]    # Features\n",
        "y = samples_df.D                # Target variable\n",
        "\n",
        "# For now we don't split train / test\n",
        "# X_train, X_test, y_train, y_test = train_test_split(X, y, test_size=0.25, random_state=16)"
      ],
      "metadata": {
        "id": "DTktkKZnSB3E"
      },
      "execution_count": null,
      "outputs": []
    },
    {
      "cell_type": "code",
      "source": [
        "logreg = LogisticRegression(random_state=16)\n",
        "logreg.fit(X, y)"
      ],
      "metadata": {
        "colab": {
          "base_uri": "https://localhost:8080/",
          "height": 75
        },
        "id": "xnTje1w080j2",
        "outputId": "5e2ea4ec-ebe0-41fb-ac94-54b21d90d83a"
      },
      "execution_count": null,
      "outputs": [
        {
          "output_type": "execute_result",
          "data": {
            "text/plain": [
              "LogisticRegression(random_state=16)"
            ],
            "text/html": [
              "<style>#sk-container-id-3 {color: black;background-color: white;}#sk-container-id-3 pre{padding: 0;}#sk-container-id-3 div.sk-toggleable {background-color: white;}#sk-container-id-3 label.sk-toggleable__label {cursor: pointer;display: block;width: 100%;margin-bottom: 0;padding: 0.3em;box-sizing: border-box;text-align: center;}#sk-container-id-3 label.sk-toggleable__label-arrow:before {content: \"▸\";float: left;margin-right: 0.25em;color: #696969;}#sk-container-id-3 label.sk-toggleable__label-arrow:hover:before {color: black;}#sk-container-id-3 div.sk-estimator:hover label.sk-toggleable__label-arrow:before {color: black;}#sk-container-id-3 div.sk-toggleable__content {max-height: 0;max-width: 0;overflow: hidden;text-align: left;background-color: #f0f8ff;}#sk-container-id-3 div.sk-toggleable__content pre {margin: 0.2em;color: black;border-radius: 0.25em;background-color: #f0f8ff;}#sk-container-id-3 input.sk-toggleable__control:checked~div.sk-toggleable__content {max-height: 200px;max-width: 100%;overflow: auto;}#sk-container-id-3 input.sk-toggleable__control:checked~label.sk-toggleable__label-arrow:before {content: \"▾\";}#sk-container-id-3 div.sk-estimator input.sk-toggleable__control:checked~label.sk-toggleable__label {background-color: #d4ebff;}#sk-container-id-3 div.sk-label input.sk-toggleable__control:checked~label.sk-toggleable__label {background-color: #d4ebff;}#sk-container-id-3 input.sk-hidden--visually {border: 0;clip: rect(1px 1px 1px 1px);clip: rect(1px, 1px, 1px, 1px);height: 1px;margin: -1px;overflow: hidden;padding: 0;position: absolute;width: 1px;}#sk-container-id-3 div.sk-estimator {font-family: monospace;background-color: #f0f8ff;border: 1px dotted black;border-radius: 0.25em;box-sizing: border-box;margin-bottom: 0.5em;}#sk-container-id-3 div.sk-estimator:hover {background-color: #d4ebff;}#sk-container-id-3 div.sk-parallel-item::after {content: \"\";width: 100%;border-bottom: 1px solid gray;flex-grow: 1;}#sk-container-id-3 div.sk-label:hover label.sk-toggleable__label {background-color: #d4ebff;}#sk-container-id-3 div.sk-serial::before {content: \"\";position: absolute;border-left: 1px solid gray;box-sizing: border-box;top: 0;bottom: 0;left: 50%;z-index: 0;}#sk-container-id-3 div.sk-serial {display: flex;flex-direction: column;align-items: center;background-color: white;padding-right: 0.2em;padding-left: 0.2em;position: relative;}#sk-container-id-3 div.sk-item {position: relative;z-index: 1;}#sk-container-id-3 div.sk-parallel {display: flex;align-items: stretch;justify-content: center;background-color: white;position: relative;}#sk-container-id-3 div.sk-item::before, #sk-container-id-3 div.sk-parallel-item::before {content: \"\";position: absolute;border-left: 1px solid gray;box-sizing: border-box;top: 0;bottom: 0;left: 50%;z-index: -1;}#sk-container-id-3 div.sk-parallel-item {display: flex;flex-direction: column;z-index: 1;position: relative;background-color: white;}#sk-container-id-3 div.sk-parallel-item:first-child::after {align-self: flex-end;width: 50%;}#sk-container-id-3 div.sk-parallel-item:last-child::after {align-self: flex-start;width: 50%;}#sk-container-id-3 div.sk-parallel-item:only-child::after {width: 0;}#sk-container-id-3 div.sk-dashed-wrapped {border: 1px dashed gray;margin: 0 0.4em 0.5em 0.4em;box-sizing: border-box;padding-bottom: 0.4em;background-color: white;}#sk-container-id-3 div.sk-label label {font-family: monospace;font-weight: bold;display: inline-block;line-height: 1.2em;}#sk-container-id-3 div.sk-label-container {text-align: center;}#sk-container-id-3 div.sk-container {/* jupyter's `normalize.less` sets `[hidden] { display: none; }` but bootstrap.min.css set `[hidden] { display: none !important; }` so we also need the `!important` here to be able to override the default hidden behavior on the sphinx rendered scikit-learn.org. See: https://github.com/scikit-learn/scikit-learn/issues/21755 */display: inline-block !important;position: relative;}#sk-container-id-3 div.sk-text-repr-fallback {display: none;}</style><div id=\"sk-container-id-3\" class=\"sk-top-container\"><div class=\"sk-text-repr-fallback\"><pre>LogisticRegression(random_state=16)</pre><b>In a Jupyter environment, please rerun this cell to show the HTML representation or trust the notebook. <br />On GitHub, the HTML representation is unable to render, please try loading this page with nbviewer.org.</b></div><div class=\"sk-container\" hidden><div class=\"sk-item\"><div class=\"sk-estimator sk-toggleable\"><input class=\"sk-toggleable__control sk-hidden--visually\" id=\"sk-estimator-id-3\" type=\"checkbox\" checked><label for=\"sk-estimator-id-3\" class=\"sk-toggleable__label sk-toggleable__label-arrow\">LogisticRegression</label><div class=\"sk-toggleable__content\"><pre>LogisticRegression(random_state=16)</pre></div></div></div></div></div>"
            ]
          },
          "metadata": {},
          "execution_count": 41
        }
      ]
    },
    {
      "cell_type": "code",
      "source": [
        "# do(V1 = 1)\n",
        "X_pred = X.copy()\n",
        "X_pred['V1'] = 1 \n",
        "y_pred_1 = logreg.predict(X_pred)\n",
        "y_pred_1.mean()"
      ],
      "metadata": {
        "colab": {
          "base_uri": "https://localhost:8080/"
        },
        "id": "yBRBI7h59GyK",
        "outputId": "59535fa0-6d85-4814-e77d-f60db03baa15"
      },
      "execution_count": null,
      "outputs": [
        {
          "output_type": "execute_result",
          "data": {
            "text/plain": [
              "0.0"
            ]
          },
          "metadata": {},
          "execution_count": 47
        }
      ]
    },
    {
      "cell_type": "code",
      "source": [
        "# do(V1 = 0)\n",
        "X_pred = X.copy()\n",
        "X_pred['V1'] = 0 \n",
        "y_pred_0 = logreg.predict(X_pred)\n",
        "y_pred_0.mean()"
      ],
      "metadata": {
        "colab": {
          "base_uri": "https://localhost:8080/"
        },
        "id": "8So6Ewc5_k6P",
        "outputId": "190d1efc-0021-46bf-87d2-1969fe2c37f7"
      },
      "execution_count": null,
      "outputs": [
        {
          "output_type": "execute_result",
          "data": {
            "text/plain": [
              "0.44978"
            ]
          },
          "metadata": {},
          "execution_count": 48
        }
      ]
    },
    {
      "cell_type": "code",
      "source": [
        "linreg = LinearRegression()\n",
        "linreg.fit(X, y)"
      ],
      "metadata": {
        "colab": {
          "base_uri": "https://localhost:8080/",
          "height": 75
        },
        "id": "OeKFW2_eSv78",
        "outputId": "2a0970fa-d764-474a-8ecb-7883d25c24d4"
      },
      "execution_count": null,
      "outputs": [
        {
          "output_type": "execute_result",
          "data": {
            "text/plain": [
              "LinearRegression()"
            ],
            "text/html": [
              "<style>#sk-container-id-4 {color: black;background-color: white;}#sk-container-id-4 pre{padding: 0;}#sk-container-id-4 div.sk-toggleable {background-color: white;}#sk-container-id-4 label.sk-toggleable__label {cursor: pointer;display: block;width: 100%;margin-bottom: 0;padding: 0.3em;box-sizing: border-box;text-align: center;}#sk-container-id-4 label.sk-toggleable__label-arrow:before {content: \"▸\";float: left;margin-right: 0.25em;color: #696969;}#sk-container-id-4 label.sk-toggleable__label-arrow:hover:before {color: black;}#sk-container-id-4 div.sk-estimator:hover label.sk-toggleable__label-arrow:before {color: black;}#sk-container-id-4 div.sk-toggleable__content {max-height: 0;max-width: 0;overflow: hidden;text-align: left;background-color: #f0f8ff;}#sk-container-id-4 div.sk-toggleable__content pre {margin: 0.2em;color: black;border-radius: 0.25em;background-color: #f0f8ff;}#sk-container-id-4 input.sk-toggleable__control:checked~div.sk-toggleable__content {max-height: 200px;max-width: 100%;overflow: auto;}#sk-container-id-4 input.sk-toggleable__control:checked~label.sk-toggleable__label-arrow:before {content: \"▾\";}#sk-container-id-4 div.sk-estimator input.sk-toggleable__control:checked~label.sk-toggleable__label {background-color: #d4ebff;}#sk-container-id-4 div.sk-label input.sk-toggleable__control:checked~label.sk-toggleable__label {background-color: #d4ebff;}#sk-container-id-4 input.sk-hidden--visually {border: 0;clip: rect(1px 1px 1px 1px);clip: rect(1px, 1px, 1px, 1px);height: 1px;margin: -1px;overflow: hidden;padding: 0;position: absolute;width: 1px;}#sk-container-id-4 div.sk-estimator {font-family: monospace;background-color: #f0f8ff;border: 1px dotted black;border-radius: 0.25em;box-sizing: border-box;margin-bottom: 0.5em;}#sk-container-id-4 div.sk-estimator:hover {background-color: #d4ebff;}#sk-container-id-4 div.sk-parallel-item::after {content: \"\";width: 100%;border-bottom: 1px solid gray;flex-grow: 1;}#sk-container-id-4 div.sk-label:hover label.sk-toggleable__label {background-color: #d4ebff;}#sk-container-id-4 div.sk-serial::before {content: \"\";position: absolute;border-left: 1px solid gray;box-sizing: border-box;top: 0;bottom: 0;left: 50%;z-index: 0;}#sk-container-id-4 div.sk-serial {display: flex;flex-direction: column;align-items: center;background-color: white;padding-right: 0.2em;padding-left: 0.2em;position: relative;}#sk-container-id-4 div.sk-item {position: relative;z-index: 1;}#sk-container-id-4 div.sk-parallel {display: flex;align-items: stretch;justify-content: center;background-color: white;position: relative;}#sk-container-id-4 div.sk-item::before, #sk-container-id-4 div.sk-parallel-item::before {content: \"\";position: absolute;border-left: 1px solid gray;box-sizing: border-box;top: 0;bottom: 0;left: 50%;z-index: -1;}#sk-container-id-4 div.sk-parallel-item {display: flex;flex-direction: column;z-index: 1;position: relative;background-color: white;}#sk-container-id-4 div.sk-parallel-item:first-child::after {align-self: flex-end;width: 50%;}#sk-container-id-4 div.sk-parallel-item:last-child::after {align-self: flex-start;width: 50%;}#sk-container-id-4 div.sk-parallel-item:only-child::after {width: 0;}#sk-container-id-4 div.sk-dashed-wrapped {border: 1px dashed gray;margin: 0 0.4em 0.5em 0.4em;box-sizing: border-box;padding-bottom: 0.4em;background-color: white;}#sk-container-id-4 div.sk-label label {font-family: monospace;font-weight: bold;display: inline-block;line-height: 1.2em;}#sk-container-id-4 div.sk-label-container {text-align: center;}#sk-container-id-4 div.sk-container {/* jupyter's `normalize.less` sets `[hidden] { display: none; }` but bootstrap.min.css set `[hidden] { display: none !important; }` so we also need the `!important` here to be able to override the default hidden behavior on the sphinx rendered scikit-learn.org. See: https://github.com/scikit-learn/scikit-learn/issues/21755 */display: inline-block !important;position: relative;}#sk-container-id-4 div.sk-text-repr-fallback {display: none;}</style><div id=\"sk-container-id-4\" class=\"sk-top-container\"><div class=\"sk-text-repr-fallback\"><pre>LinearRegression()</pre><b>In a Jupyter environment, please rerun this cell to show the HTML representation or trust the notebook. <br />On GitHub, the HTML representation is unable to render, please try loading this page with nbviewer.org.</b></div><div class=\"sk-container\" hidden><div class=\"sk-item\"><div class=\"sk-estimator sk-toggleable\"><input class=\"sk-toggleable__control sk-hidden--visually\" id=\"sk-estimator-id-4\" type=\"checkbox\" checked><label for=\"sk-estimator-id-4\" class=\"sk-toggleable__label sk-toggleable__label-arrow\">LinearRegression</label><div class=\"sk-toggleable__content\"><pre>LinearRegression()</pre></div></div></div></div></div>"
            ]
          },
          "metadata": {},
          "execution_count": 52
        }
      ]
    },
    {
      "cell_type": "code",
      "source": [
        "# do(V1 = 1)\n",
        "X_pred = X.copy()\n",
        "X_pred['V1'] = 1 \n",
        "y_pred_1 = linreg.predict(X_pred)\n",
        "y_pred_1.mean()"
      ],
      "metadata": {
        "colab": {
          "base_uri": "https://localhost:8080/"
        },
        "id": "dn8Y_xZGTR16",
        "outputId": "6d9216f4-9a5e-4393-ca67-f093af3814d8"
      },
      "execution_count": null,
      "outputs": [
        {
          "output_type": "execute_result",
          "data": {
            "text/plain": [
              "0.3335987649038346"
            ]
          },
          "metadata": {},
          "execution_count": 53
        }
      ]
    },
    {
      "cell_type": "code",
      "source": [
        "# do(V1 = 0)\n",
        "X_pred = X.copy()\n",
        "X_pred['V1'] = 0 \n",
        "y_pred_0 = linreg.predict(X_pred)\n",
        "y_pred_0.mean()"
      ],
      "metadata": {
        "colab": {
          "base_uri": "https://localhost:8080/"
        },
        "id": "C8ukTbmRTZCK",
        "outputId": "e22d2832-7c36-42c6-b830-214e5f8b4366"
      },
      "execution_count": null,
      "outputs": [
        {
          "output_type": "execute_result",
          "data": {
            "text/plain": [
              "0.5435394373313088"
            ]
          },
          "metadata": {},
          "execution_count": 54
        }
      ]
    },
    {
      "cell_type": "code",
      "source": [
        "# Print ATE\n",
        "print(y_pred_1.mean() - y_pred_0.mean())"
      ],
      "metadata": {
        "colab": {
          "base_uri": "https://localhost:8080/"
        },
        "id": "6mS7FGElTfB2",
        "outputId": "83b0878d-df13-49a5-c219-676bc234c86d"
      },
      "execution_count": null,
      "outputs": [
        {
          "output_type": "stream",
          "name": "stdout",
          "text": [
            "-0.20994067242747422\n"
          ]
        }
      ]
    },
    {
      "cell_type": "code",
      "source": [
        "import networkx as nx\n",
        "import dowhy.gcm as gcm\n",
        "\n",
        "# we got the data\n",
        "\n",
        "causal_model = gcm.ProbabilisticCausalModel(nx.DiGraph([('V3', 'V2'), ('V3', 'V1'), ('V2', 'V1'), ('V1', 'D'), ('V2', 'D')]))\n",
        "gcm.auto.assign_causal_mechanisms(causal_model, samples_df)\n",
        "gcm.fit(causal_model, samples_df)"
      ],
      "metadata": {
        "colab": {
          "base_uri": "https://localhost:8080/"
        },
        "id": "6gq6lalReW8d",
        "outputId": "52e67861-331a-4122-cf25-ef5bd693d250"
      },
      "execution_count": null,
      "outputs": [
        {
          "output_type": "stream",
          "name": "stderr",
          "text": [
            "Fitting causal mechanism of node D: 100%|██████████| 4/4 [00:08<00:00,  2.23s/it]\n"
          ]
        }
      ]
    },
    {
      "cell_type": "code",
      "source": [
        "gcm.average_causal_effect(causal_model,\n",
        "                         'D',\n",
        "                         interventions_alternative={'V1': lambda x: 1},\n",
        "                         interventions_reference={'V1': lambda x: 0},\n",
        "                         num_samples_to_draw=1000)"
      ],
      "metadata": {
        "colab": {
          "base_uri": "https://localhost:8080/",
          "height": 37
        },
        "id": "W_xgyW_zf6gI",
        "outputId": "56e34504-c793-4655-f732-1f99d7617fee"
      },
      "execution_count": null,
      "outputs": [
        {
          "output_type": "execute_result",
          "data": {
            "text/plain": [
              "-0.23132152998412459"
            ],
            "image/png": "[encoded data removed]",
            "text/latex": "$\\displaystyle -0.231321529984125$"
          },
          "metadata": {},
          "execution_count": 7
        }
      ]
    },
    {
      "cell_type": "code",
      "source": [
        "gcm.average_causal_effect(causal_model,\n",
        "                         'D',\n",
        "                         interventions_alternative={'V1': lambda x: 1},\n",
        "                         interventions_reference={'V1': lambda x: 0},\n",
        "                         observed_data=samples_df)"
      ],
      "metadata": {
        "colab": {
          "base_uri": "https://localhost:8080/",
          "height": 37
        },
        "id": "Ss2Hi2kXhdk1",
        "outputId": "8d8173ea-38ec-4c18-af65-416d04b62d61"
      },
      "execution_count": null,
      "outputs": [
        {
          "output_type": "execute_result",
          "data": {
            "text/plain": [
              "-0.21484609640331753"
            ],
            "image/png": "[encoded data removed]",
            "text/latex": "$\\displaystyle -0.214846096403318$"
          },
          "metadata": {},
          "execution_count": 8
        }
      ]
    },
    {
      "cell_type": "code",
      "source": [
        "# Average Treatment Effect (ATE) E(D|do(V1=1)) - E(D|do(V1=0)) = E[D(1) - D(0)] = P(D=1|do(V1=1)) - P(D=1|do(V1=0))\n",
        "\n",
        "# Without a model:               0.3225 - 0.535 = -0.2125  (just probability calculation)\n",
        "# Logistic Regression:              0 - 0.44978 = -0.45 \n",
        "# Linear Regression:              0.33 - 0.5435 = -0.20994 \n",
        "# DoWhy package estimator:                        −0.2313 (with sampled data)\n",
        "# DoWhy package estimator:                        −0.2148 (with original data)"
      ],
      "metadata": {
        "id": "8qa2SA5kEC0J"
      },
      "execution_count": null,
      "outputs": []
    }
  ]
}